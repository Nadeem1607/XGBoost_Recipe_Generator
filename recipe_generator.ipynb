{
 "cells": [
  {
   "cell_type": "code",
   "execution_count": 1,
   "id": "a665d1eb",
   "metadata": {},
   "outputs": [],
   "source": [
    "import pandas as pd\n",
    "import joblib\n",
    "from sklearn.metrics.pairwise import cosine_similarity"
   ]
  },
  {
   "cell_type": "code",
   "execution_count": 2,
   "id": "d63fc955",
   "metadata": {},
   "outputs": [],
   "source": [
    "# Load data and vectorizer\n",
    "df = pd.read_csv('data/recipenlg.csv')\n",
    "vectorizer = joblib.load('vectorizer.pkl')"
   ]
  },
  {
   "cell_type": "code",
   "execution_count": 3,
   "id": "17a3d246",
   "metadata": {},
   "outputs": [],
   "source": [
    "# Clean up ingredients\n",
    "import ast\n",
    "def clean_ingredients(ing):\n",
    "    if isinstance(ing, str):\n",
    "        try:\n",
    "            return ' '.join(ast.literal_eval(ing))\n",
    "        except:\n",
    "            return ''\n",
    "    return ''\n",
    "\n",
    "df['ingredient_text'] = df['ingredients'].apply(clean_ingredients)\n",
    "X = vectorizer.transform(df['ingredient_text'])"
   ]
  },
  {
   "cell_type": "code",
   "execution_count": 8,
   "id": "9ec0ccb1",
   "metadata": {},
   "outputs": [],
   "source": [
    "def suggest_recipe(user_input):\n",
    "    # Preprocess and vectorize input\n",
    "    input_text = ' '.join([i.strip().lower() for i in user_input.split(',')])\n",
    "    input_vec = vectorizer.transform([input_text])\n",
    "\n",
    "    # Compute cosine similarity\n",
    "    similarities = cosine_similarity(input_vec, X)\n",
    "    top_index = similarities.argmax()\n",
    "\n",
    "    # Get top matching recipe\n",
    "    title = df.iloc[top_index]['title']\n",
    "    ingredients = df.iloc[top_index]['ingredients']\n",
    "    directions = df.iloc[top_index]['directions']\n",
    "    return title, ingredients, directions"
   ]
  },
  {
   "cell_type": "code",
   "execution_count": 11,
   "id": "148c3461",
   "metadata": {},
   "outputs": [
    {
     "name": "stdout",
     "output_type": "stream",
     "text": [
      "\n",
      "Suggested Recipe: Grilled Jalapeno Peppers\n",
      "Ingredients: [\"Jalapenos\", \"Cream cheese\", \"Bacon\"]\n",
      "Directions: [\"Slice jalapenos lengthwise; stuff with cream cheese. Wrap with bacon and wrap in foil. Place on grill until bacon is done.\"]\n"
     ]
    }
   ],
   "source": [
    "# input from user\n",
    "if __name__ == '__main__':\n",
    "    user_input = input(\"Enter ingredients (comma-separated): \")\n",
    "    title, ingredients, directions = suggest_recipe(user_input)\n",
    "    print(f\"\\nSuggested Recipe: {title}\\nIngredients: {ingredients}\\nDirections: {directions}\")"
   ]
  }
 ],
 "metadata": {
  "kernelspec": {
   "display_name": "MLASSIGNMENT",
   "language": "python",
   "name": "python3"
  },
  "language_info": {
   "codemirror_mode": {
    "name": "ipython",
    "version": 3
   },
   "file_extension": ".py",
   "mimetype": "text/x-python",
   "name": "python",
   "nbconvert_exporter": "python",
   "pygments_lexer": "ipython3",
   "version": "3.10.12"
  }
 },
 "nbformat": 4,
 "nbformat_minor": 5
}
